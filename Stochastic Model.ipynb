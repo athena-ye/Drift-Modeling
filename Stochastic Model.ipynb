{
 "cells": [
  {
   "cell_type": "code",
   "execution_count": 19,
   "metadata": {},
   "outputs": [],
   "source": [
    "import numpy as np\n",
    "import matplotlib.pyplot as plt\n",
    "import random as rand\n",
    "# import filledflies \n",
    "from filledflies import*\n",
    "# import multipleruns\n",
    "from multipleruns import*\n",
    "# def include(filename):\n",
    "#     if os.path.exists(filename): \n",
    "#         execfile(filename)\n",
    "# include('myfile.py')\n",
    "# include('filledflies.py')\n",
    "# include(\"multipleruns.py\") "
   ]
  },
  {
   "cell_type": "code",
   "execution_count": 20,
   "metadata": {},
   "outputs": [],
   "source": [
    "tempdata=np.ones([25,1])*40\n",
    "[x,y]=filledflies(10,100,4,tempdata,5,4,4,365,8.5)"
   ]
  },
  {
   "cell_type": "code",
   "execution_count": null,
   "metadata": {},
   "outputs": [],
   "source": []
  }
 ],
 "metadata": {
  "kernelspec": {
   "display_name": "Python 3",
   "language": "python",
   "name": "python3"
  },
  "language_info": {
   "codemirror_mode": {
    "name": "ipython",
    "version": 3
   },
   "file_extension": ".py",
   "mimetype": "text/x-python",
   "name": "python",
   "nbconvert_exporter": "python",
   "pygments_lexer": "ipython3",
   "version": "3.7.6"
  }
 },
 "nbformat": 4,
 "nbformat_minor": 4
}
