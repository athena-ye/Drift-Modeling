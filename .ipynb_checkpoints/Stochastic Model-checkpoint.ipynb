{
 "cells": [
  {
   "cell_type": "code",
   "execution_count": 6,
   "metadata": {},
   "outputs": [
    {
     "data": {
      "text/plain": [
       "<module 'multipleruns' from '/Users/athenaye/Documents/GitHub/Drift-Modeling/multipleruns.py'>"
      ]
     },
     "execution_count": 6,
     "metadata": {},
     "output_type": "execute_result"
    }
   ],
   "source": [
    "import numpy as np\n",
    "import matplotlib.pyplot as plt\n",
    "import random as rand\n",
    "import imp\n",
    "import filledflies as ff\n",
    "# from filledflies import*\n",
    "import multipleruns as mr\n",
    "# from multipleruns import*\n",
    "\n",
    "imp.reload(ff)\n",
    "imp.reload(mr)\n",
    "# def include(filename):\n",
    "#     if os.path.exists(filename): \n",
    "#         execfile(filename)\n",
    "# include('myfile.py')\n",
    "# include('filledflies.py')\n",
    "# include(\"multipleruns.py\") "
   ]
  },
  {
   "cell_type": "code",
   "execution_count": null,
   "metadata": {},
   "outputs": [
    {
     "name": "stderr",
     "output_type": "stream",
     "text": [
      "/opt/anaconda3/lib/python3.7/site-packages/scipy/stats/_distn_infrastructure.py:1740: RuntimeWarning: divide by zero encountered in double_scalars\n",
      "  x = np.asarray((x - loc)/scale, dtype=dtyp)\n"
     ]
    }
   ],
   "source": [
    "numberofruns=100\n",
    "numberofflies=100\n",
    "numberofdays=200\n",
    "temperaturefrequencies=[10,10] #not currently used\n",
    "meantemp=[23,23]\n",
    "tempperiod=[365,365]\n",
    "tempgain=[0,0]\n",
    "initvariability=[2,0]\n",
    "driftvariability=[0,2]\n",
    "heritability=[0,0] #not currently used\n",
    "\n",
    "mr.multipleruns(numberofruns, numberofflies, numberofdays, temperaturefrequencies, meantemp, tempperiod, tempgain, initvariability, driftvariability, heritability)"
   ]
  },
  {
   "cell_type": "code",
   "execution_count": null,
   "metadata": {
    "scrolled": true
   },
   "outputs": [],
   "source": [
    "numberofruns=100\n",
    "numberofflies=100\n",
    "numberofdays=200\n",
    "temperaturefrequencies=[10,10] #not currently used\n",
    "meantemp=[23,23]\n",
    "tempperiod=[365,365]\n",
    "tempgain=[10,10]\n",
    "initvariability=[2,0]\n",
    "driftvariability=[0,2]\n",
    "heritability=[0,0] #not currently used\n",
    "\n",
    "mr.multipleruns(numberofruns, numberofflies, numberofdays, temperaturefrequencies, meantemp, tempperiod, tempgain, initvariability, driftvariability, heritability)"
   ]
  },
  {
   "cell_type": "code",
   "execution_count": null,
   "metadata": {},
   "outputs": [],
   "source": [
    "numberofruns=100\n",
    "numberofflies=100\n",
    "numberofdays=200\n",
    "temperaturefrequencies=[10,10] #not currently used\n",
    "meantemp=[23,23]\n",
    "tempperiod=[5,5]\n",
    "tempgain=[10,10]\n",
    "initvariability=[2,0]\n",
    "driftvariability=[0,2]\n",
    "heritability=[0,0] #not currently used\n",
    "\n",
    "mr.multipleruns(numberofruns, numberofflies, numberofdays, temperaturefrequencies, meantemp, tempperiod, tempgain, initvariability, driftvariability, heritability)"
   ]
  },
  {
   "cell_type": "code",
   "execution_count": null,
   "metadata": {},
   "outputs": [],
   "source": []
  },
  {
   "cell_type": "code",
   "execution_count": null,
   "metadata": {},
   "outputs": [],
   "source": []
  }
 ],
 "metadata": {
  "kernelspec": {
   "display_name": "Python 3",
   "language": "python",
   "name": "python3"
  },
  "language_info": {
   "codemirror_mode": {
    "name": "ipython",
    "version": 3
   },
   "file_extension": ".py",
   "mimetype": "text/x-python",
   "name": "python",
   "nbconvert_exporter": "python",
   "pygments_lexer": "ipython3",
   "version": "3.7.6"
  }
 },
 "nbformat": 4,
 "nbformat_minor": 4
}
